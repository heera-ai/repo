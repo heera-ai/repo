{
 "cells": [
  {
   "cell_type": "markdown",
   "metadata": {},
   "source": [
    "## Spoken English to Written English"
   ]
  },
  {
   "cell_type": "markdown",
   "metadata": {},
   "source": [
    "#### Let's create a data to convert some of word from spoken to written."
   ]
  },
  {
   "cell_type": "code",
   "execution_count": 40,
   "metadata": {},
   "outputs": [],
   "source": [
    "General={\n",
    "                          \"C M\": \"CM\",\n",
    "                            \"F M\":\"FM\",\n",
    "                            \"B TECH\": \"B. Tech\",\n",
    "                            \"M TECH\": \"M. Tech\",\n",
    "                            \"C S\":\"CS\",\n",
    "                            \"C C\":\"CC\"\n",
    "                       }\n",
    "Numbers={\n",
    "                        \"zero\": 0,\n",
    "                        \"one\" : 1,\n",
    "                        \"two\": 2,\n",
    "                        \"three\": 3,\n",
    "                        \"four\": 4,\n",
    "                        \"five\": 5,\n",
    "                        \"six\": 6,\n",
    "                        \"seven\": 7,\n",
    "                        \"eight\": 8,\n",
    "                        \"nine\": 9,\n",
    "                        \"ten\": 10,\n",
    "                        \"twenty\": 20,\n",
    "                        \"thirty\": 30,\n",
    "                        \"forty\": 40,\n",
    "                        \"fifty\": 50,\n",
    "                        \"sixty\": 60,\n",
    "                        \"seventy\": 70,\n",
    "                        \"eighty\": 80,\n",
    "                        \"ninety\": 90,\n",
    "                        \"hundred\": 100\n",
    "                        }\n",
    "Tuples=  {\n",
    "                         \"single\":1,\n",
    "                         \"double\":2,\n",
    "                         \"triple\":3,\n",
    "                         \"quadruple\":4,\n",
    "                         \"quintuple\":5,\n",
    "                         \"sextuple\":6,\n",
    "                         \"septuple\":7,\n",
    "                         \"octuple\":8,\n",
    "                         \"nonuple\":9,\n",
    "                         \"decuple\":10\n",
    "                      }"
   ]
  },
  {
   "cell_type": "markdown",
   "metadata": {},
   "source": [
    "#### Define a function to ask for a input from user and show a output."
   ]
  },
  {
   "cell_type": "code",
   "execution_count": 87,
   "metadata": {},
   "outputs": [],
   "source": [
    "def s_w():\n",
    "    txt = input(\"Please Enter input in spokel english: \")\n",
    "    print(\"Text in Spoken English :\" + txt)\n",
    "    in_txt = txt.split()\n",
    "    if txt in General:\n",
    "        print(\"Text in written english: \" + General[txt])\n",
    "    elif in_txt[0] in Tuples:\n",
    "        num = Tuples[in_txt[0]]\n",
    "        print(\"Text in written english: \" + in_txt[-1]*num)\n",
    "    else:\n",
    "        print(\"sorry, system needs a update\")"
   ]
  },
  {
   "cell_type": "markdown",
   "metadata": {},
   "source": [
    "### Examples:"
   ]
  },
  {
   "cell_type": "code",
   "execution_count": 88,
   "metadata": {},
   "outputs": [
    {
     "name": "stdout",
     "output_type": "stream",
     "text": [
      "Please Enter input in spokel english: C M\n",
      "Text in Spoken English :C M\n",
      "Text in written english: CM\n"
     ]
    }
   ],
   "source": [
    "s_w()"
   ]
  },
  {
   "cell_type": "code",
   "execution_count": 89,
   "metadata": {},
   "outputs": [
    {
     "name": "stdout",
     "output_type": "stream",
     "text": [
      "Please Enter input in spokel english: triple A\n",
      "Text in Spoken English :triple A\n",
      "Text in written english: AAA\n"
     ]
    }
   ],
   "source": [
    "s_w()"
   ]
  },
  {
   "cell_type": "code",
   "execution_count": 91,
   "metadata": {},
   "outputs": [
    {
     "name": "stdout",
     "output_type": "stream",
     "text": [
      "Please Enter input in spokel english: decuple M\n",
      "Text in Spoken English :decuple M\n",
      "Text in written english: MMMMMMMMMM\n"
     ]
    }
   ],
   "source": [
    "s_w()"
   ]
  },
  {
   "cell_type": "code",
   "execution_count": 92,
   "metadata": {},
   "outputs": [
    {
     "name": "stdout",
     "output_type": "stream",
     "text": [
      "Please Enter input in spokel english: B TECH\n",
      "Text in Spoken English :B TECH\n",
      "Text in written english: B. Tech\n"
     ]
    }
   ],
   "source": [
    "s_w()"
   ]
  },
  {
   "cell_type": "code",
   "execution_count": 93,
   "metadata": {},
   "outputs": [
    {
     "name": "stdout",
     "output_type": "stream",
     "text": [
      "Please Enter input in spokel english: random text\n",
      "Text in Spoken English :random text\n",
      "sorry, system needs a update\n"
     ]
    }
   ],
   "source": [
    "s_w()"
   ]
  },
  {
   "cell_type": "code",
   "execution_count": null,
   "metadata": {},
   "outputs": [],
   "source": []
  }
 ],
 "metadata": {
  "kernelspec": {
   "display_name": "Python 3",
   "language": "python",
   "name": "python3"
  },
  "language_info": {
   "codemirror_mode": {
    "name": "ipython",
    "version": 3
   },
   "file_extension": ".py",
   "mimetype": "text/x-python",
   "name": "python",
   "nbconvert_exporter": "python",
   "pygments_lexer": "ipython3",
   "version": "3.7.6"
  }
 },
 "nbformat": 4,
 "nbformat_minor": 4
}
